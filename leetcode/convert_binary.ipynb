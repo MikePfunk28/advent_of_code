{
 "cells": [
  {
   "cell_type": "markdown",
   "id": "826d3cf4",
   "metadata": {},
   "source": [
    "## Convert to Binary\n",
    "\n",
    "```python\n",
    "num = 1507\n",
    "result = ''\n",
    "if num == 0:\n",
    "    result = '0'\n",
    "else:\n",
    "    while num > 0:\n",
    "        result = str(num % 2) + result\n",
    "        num //= 2\n",
    "print(result)  # Output: 10111011111\n",
    "```"
   ]
  },
  {
   "cell_type": "code",
   "execution_count": null,
   "id": "b57923ec",
   "metadata": {},
   "outputs": [
    {
     "name": "stdout",
     "output_type": "stream",
     "text": [
      "10111100011\n"
     ]
    }
   ],
   "source": [
    "num = 1507\n",
    "result = ''\n",
    "if num == 0:\n",
    "    result = '0'\n",
    "else:\n",
    "    while num > 0:\n",
    "        result = str(num % 2) + result\n",
    "        num //= 2\n",
    "print(result)  # Output: 10111011111"
   ]
  },
  {
   "cell_type": "code",
   "execution_count": 6,
   "id": "f16a720c",
   "metadata": {},
   "outputs": [
    {
     "name": "stdout",
     "output_type": "stream",
     "text": [
      "    #\n",
      "   ##\n",
      "  ###\n",
      " ####\n",
      "#####\n",
      "\n",
      "None\n"
     ]
    }
   ],
   "source": [
    "def staircase(n):\n",
    "    row = []\n",
    "    for i in range(1, n + 1):\n",
    "        spaces = ' ' * (n - i)\n",
    "        hashes = '#' * i\n",
    "        row.append(spaces + hashes + \"\\n\")\n",
    "    row = ''.join(row)\n",
    "    print(row)\n",
    "\n",
    "if __name__ == \"__main__\":\n",
    "    n = 5\n",
    "    print(staircase(n))  # Output: ['    #\\n', '   ##\\n', '  ###\\n', ' ####\\n', '#####\\n']"
   ]
  }
 ],
 "metadata": {
  "kernelspec": {
   "display_name": ".app (3.13.2)",
   "language": "python",
   "name": "python3"
  },
  "language_info": {
   "codemirror_mode": {
    "name": "ipython",
    "version": 3
   },
   "file_extension": ".py",
   "mimetype": "text/x-python",
   "name": "python",
   "nbconvert_exporter": "python",
   "pygments_lexer": "ipython3",
   "version": "3.13.2"
  }
 },
 "nbformat": 4,
 "nbformat_minor": 5
}
